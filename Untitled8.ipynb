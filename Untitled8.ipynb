{
  "nbformat": 4,
  "nbformat_minor": 0,
  "metadata": {
    "colab": {
      "provenance": [],
      "authorship_tag": "ABX9TyPIJFsd4jbnUVd/zP5GS4+C",
      "include_colab_link": true
    },
    "kernelspec": {
      "name": "python3",
      "display_name": "Python 3"
    },
    "language_info": {
      "name": "python"
    }
  },
  "cells": [
    {
      "cell_type": "markdown",
      "metadata": {
        "id": "view-in-github",
        "colab_type": "text"
      },
      "source": [
        "<a href=\"https://colab.research.google.com/github/AnandMathew161994/DSA/blob/main/Untitled8.ipynb\" target=\"_parent\"><img src=\"https://colab.research.google.com/assets/colab-badge.svg\" alt=\"Open In Colab\"/></a>"
      ]
    },
    {
      "cell_type": "code",
      "execution_count": null,
      "metadata": {
        "colab": {
          "base_uri": "https://localhost:8080/"
        },
        "id": "2cFZiO9v91it",
        "outputId": "c73f917c-6d42-451c-f59c-c7aa97f79be6"
      },
      "outputs": [
        {
          "output_type": "execute_result",
          "data": {
            "text/plain": [
              "13"
            ]
          },
          "metadata": {},
          "execution_count": 1
        }
      ],
      "source": [
        "# 0,1,1,2,3,5,8,11,19,30\n",
        "\n",
        "def abc(n):\n",
        "  if n<2:\n",
        "    return n\n",
        "  return abc(n-1) +abc(n-2)\n",
        "\n",
        "abc(7)"
      ]
    },
    {
      "cell_type": "code",
      "source": [
        "KAFKA_BOOTSTRAP_SERVERS = ['kafka_broker_1:19092','kafka_broker_2:19093','kafka_broker_3:19094']\n",
        "\n",
        "','.join(KAFKA_BOOTSTRAP_SERVERS)"
      ],
      "metadata": {
        "colab": {
          "base_uri": "https://localhost:8080/",
          "height": 35
        },
        "id": "hj3aApZDeTFd",
        "outputId": "606e75b9-4871-4cac-f490-c073f1897688"
      },
      "execution_count": null,
      "outputs": [
        {
          "output_type": "execute_result",
          "data": {
            "text/plain": [
              "'kafka_broker_1:19092,kafka_broker_2:19093,kafka_broker_3:19094'"
            ],
            "application/vnd.google.colaboratory.intrinsic+json": {
              "type": "string"
            }
          },
          "metadata": {},
          "execution_count": 1
        }
      ]
    },
    {
      "cell_type": "code",
      "source": [
        "class Node:\n",
        "    def __init__(self, data):\n",
        "        self.data = data  # The value of the node\n",
        "        self.next = None  # Reference to the next node\n"
      ],
      "metadata": {
        "id": "h9DPzRwUVkvc"
      },
      "execution_count": null,
      "outputs": []
    },
    {
      "cell_type": "code",
      "source": [
        "class LinkedList:\n",
        "    def __init__(self):\n",
        "        self.head = None  # Initialize the head of the linked list\n",
        "\n",
        "    def append(self, data):\n",
        "        \"\"\"Add a node at the end of the list.\"\"\"\n",
        "        new_node = Node(data)\n",
        "        if not self.head:\n",
        "            self.head = new_node\n",
        "            return\n",
        "        last_node = self.head\n",
        "        while last_node.next:\n",
        "            last_node = last_node.next\n",
        "        last_node.next = new_node\n",
        "\n",
        "    def prepend(self, data):\n",
        "        \"\"\"Add a node at the beginning of the list.\"\"\"\n",
        "        new_node = Node(data)\n",
        "        new_node.next = self.head\n",
        "        self.head = new_node\n",
        "\n",
        "    def display(self):\n",
        "        \"\"\"Print the linked list.\"\"\"\n",
        "        current_node = self.head\n",
        "        while current_node:\n",
        "            print(current_node.data, end=\" -> \")\n",
        "            current_node = current_node.next\n",
        "        print(\"None\")\n"
      ],
      "metadata": {
        "id": "DX5OAzm4Vk5I"
      },
      "execution_count": null,
      "outputs": []
    },
    {
      "cell_type": "code",
      "source": [
        "new = LinkedList()"
      ],
      "metadata": {
        "id": "SUR2jhBIVk8O"
      },
      "execution_count": null,
      "outputs": []
    },
    {
      "cell_type": "code",
      "source": [
        "new.prepend(7)"
      ],
      "metadata": {
        "id": "swXRYc3pVk_W"
      },
      "execution_count": null,
      "outputs": []
    },
    {
      "cell_type": "code",
      "source": [
        "new.head"
      ],
      "metadata": {
        "colab": {
          "base_uri": "https://localhost:8080/"
        },
        "id": "16F1EQ5wVlDC",
        "outputId": "0e36332f-a97b-4c58-a017-ceaff018d616"
      },
      "execution_count": null,
      "outputs": [
        {
          "output_type": "execute_result",
          "data": {
            "text/plain": [
              "<__main__.Node at 0x783252bc0430>"
            ]
          },
          "metadata": {},
          "execution_count": 18
        }
      ]
    },
    {
      "cell_type": "code",
      "source": [],
      "metadata": {
        "id": "rOxEDfIzG8YU"
      },
      "execution_count": null,
      "outputs": []
    },
    {
      "cell_type": "code",
      "source": [
        "b=[1,3,5,6,8,9,24,56,68,89]\n",
        "\n",
        "def bs (a,k) :\n",
        "  end = len(a)\n",
        "  start = 0\n",
        "  counter =0\n",
        "  for i in range(0,end):\n",
        "    mid= int ( (start+ (end-start)/2))\n",
        "    if (k>a[mid]) :\n",
        "      start =mid+1\n",
        "    if (k<a[mid]) :\n",
        "      end = mid -1\n",
        "    if (k== a[mid]) :\n",
        "      return mid\n",
        "  return \"NA\"\n",
        "\n",
        "bs(b,89)\n",
        "\n"
      ],
      "metadata": {
        "colab": {
          "base_uri": "https://localhost:8080/"
        },
        "id": "ChCd9ExkE7T_",
        "outputId": "45e0fc10-1f09-48f5-e2c5-a0db34bad6bc"
      },
      "execution_count": null,
      "outputs": [
        {
          "output_type": "execute_result",
          "data": {
            "text/plain": [
              "9"
            ]
          },
          "metadata": {},
          "execution_count": 53
        }
      ]
    },
    {
      "cell_type": "code",
      "source": [
        "b=[1,3,5,6,8,9,24,56,68,89]"
      ],
      "metadata": {
        "id": "PtvOcNBUFgR5"
      },
      "execution_count": null,
      "outputs": []
    },
    {
      "cell_type": "code",
      "source": [
        "b.append(\"ball\")"
      ],
      "metadata": {
        "id": "lS48dKE5JEA_"
      },
      "execution_count": null,
      "outputs": []
    },
    {
      "cell_type": "code",
      "source": [
        "b"
      ],
      "metadata": {
        "id": "TDjn2x7-PPDV",
        "colab": {
          "base_uri": "https://localhost:8080/"
        },
        "outputId": "a5328f1d-62c0-4379-8e8c-8ca985ce6e7e"
      },
      "execution_count": null,
      "outputs": [
        {
          "output_type": "execute_result",
          "data": {
            "text/plain": [
              "[1, 3, 5, 6, 8, 9, 24, 56, 68, 89, 4, 32, 322, 322, 'ball']"
            ]
          },
          "metadata": {},
          "execution_count": 15
        }
      ]
    },
    {
      "cell_type": "code",
      "source": [
        "def search (arr,target,start=0,end=None) :\n",
        "  if start==0 and end == None :\n",
        "     end = len(arr)\n",
        "     #print(1)\n",
        "\n",
        "  if (start>end) :\n",
        "    return \"NA\"\n",
        "    #print(2)\n",
        "  mid = int (start + (end-start)/2)\n",
        "\n",
        "  if (target>arr[mid]):\n",
        "    #print(3)\n",
        "    return search (arr,target,mid+1,end)\n",
        "\n",
        "  if (target<arr[mid]):\n",
        "   # print(4)\n",
        "    return search (arr,target,start,mid-1)\n",
        "\n",
        "  if (target==arr[mid]):\n",
        "    return mid\n",
        "\n",
        "search(b,89)\n",
        "\n"
      ],
      "metadata": {
        "colab": {
          "base_uri": "https://localhost:8080/"
        },
        "id": "tgwd07qqW9uC",
        "outputId": "7d474e46-186b-4ad6-83ac-36c3ef26faac"
      },
      "execution_count": null,
      "outputs": [
        {
          "output_type": "execute_result",
          "data": {
            "text/plain": [
              "9"
            ]
          },
          "metadata": {},
          "execution_count": 56
        }
      ]
    },
    {
      "cell_type": "code",
      "source": [
        "def a (n) :\n",
        "    if n==0:\n",
        "      return \"over\"\n",
        "\n",
        "    a(n-1)\n",
        "    print(n)\n",
        "\n",
        "a(4)"
      ],
      "metadata": {
        "colab": {
          "base_uri": "https://localhost:8080/"
        },
        "id": "fACUF349__aE",
        "outputId": "c6fa5b47-fee5-48b5-9293-a40d53bb5de9"
      },
      "execution_count": null,
      "outputs": [
        {
          "output_type": "stream",
          "name": "stdout",
          "text": [
            "1\n",
            "2\n",
            "3\n",
            "4\n"
          ]
        }
      ]
    },
    {
      "cell_type": "code",
      "source": [
        "left = [1,3,4,5]\n",
        "right = [3,4,8,9]\n",
        "j=[\"a\",\"b\",\"c\",\"d\",\"e\",\"f\",\"g\",\"h\"]\n",
        "\n",
        "\n",
        "def merge_sorted_array(x,y,arr) :\n",
        "  len_left = len(x)\n",
        "  len_right = len(y)\n",
        "  i=j=k=0\n",
        "\n",
        "  while i<len_left and j<len_right :\n",
        "    if x[i]<y[j]:\n",
        "      arr[k] = x[i]\n",
        "      i+=1\n",
        "      k+=1\n",
        "\n",
        "    else :\n",
        "      arr[k] = y[j]\n",
        "      j+=1\n",
        "      k+=1\n",
        "\n",
        "\n",
        "  return arr\n",
        "\n",
        "\n",
        "merge_sorted_array(left,right,j)\n",
        "\n"
      ],
      "metadata": {
        "colab": {
          "base_uri": "https://localhost:8080/"
        },
        "id": "afIqCMTaACsN",
        "outputId": "d4b401b8-0f62-48da-f4ae-27f97e0e5b21"
      },
      "execution_count": null,
      "outputs": [
        {
          "output_type": "execute_result",
          "data": {
            "text/plain": [
              "[1, 3, 3, 4, 4, 5, 'g', 'h']"
            ]
          },
          "metadata": {},
          "execution_count": 80
        }
      ]
    },
    {
      "cell_type": "code",
      "source": [],
      "metadata": {
        "id": "r3qDPQqTzgDp"
      },
      "execution_count": null,
      "outputs": []
    },
    {
      "cell_type": "code",
      "source": [
        "def fact(n):\n",
        "  if n<=1 :\n",
        "    return 1\n",
        "  return (n*fact(n-1))\n",
        "\n",
        "fact(5)"
      ],
      "metadata": {
        "colab": {
          "base_uri": "https://localhost:8080/"
        },
        "id": "jItYkJxnzgF9",
        "outputId": "a0ede17b-fac8-420d-ad4d-bce40e0251f6"
      },
      "execution_count": null,
      "outputs": [
        {
          "output_type": "execute_result",
          "data": {
            "text/plain": [
              "120"
            ]
          },
          "metadata": {},
          "execution_count": 92
        }
      ]
    },
    {
      "cell_type": "code",
      "source": [
        "1234\n",
        "\n",
        "4+ rev(123)\n",
        "43 + 12\n",
        "432+ F\n",
        "\n"
      ],
      "metadata": {
        "id": "q-4pKeYC4i-6",
        "colab": {
          "base_uri": "https://localhost:8080/"
        },
        "outputId": "00729e1c-21d7-42b8-ddc9-9a4b90b4f6cb"
      },
      "execution_count": null,
      "outputs": [
        {
          "output_type": "execute_result",
          "data": {
            "text/plain": [
              "1"
            ]
          },
          "metadata": {},
          "execution_count": 10
        }
      ]
    },
    {
      "cell_type": "code",
      "source": [
        "1//10\n"
      ],
      "metadata": {
        "colab": {
          "base_uri": "https://localhost:8080/"
        },
        "id": "GI-oV0TITBRG",
        "outputId": "6a3a405e-0551-4380-ccd4-384a14619ef8"
      },
      "execution_count": null,
      "outputs": [
        {
          "output_type": "execute_result",
          "data": {
            "text/plain": [
              "0"
            ]
          },
          "metadata": {},
          "execution_count": 6
        }
      ]
    },
    {
      "cell_type": "code",
      "source": [
        "a=[1,1,2,5,3,7,4,5]\n",
        "\n",
        "def search(k,target,i=0) :\n",
        "  j=[]\n",
        "  if i == len(k) :\n",
        "    return j\n",
        "  if k[i] == target :\n",
        "    j.append(i)\n",
        "    m= search(k,target,i+1)\n",
        "  else :\n",
        "    return search(k,target,i+1)\n",
        "\n",
        "  return j\n",
        "search(a,5)"
      ],
      "metadata": {
        "colab": {
          "base_uri": "https://localhost:8080/"
        },
        "id": "_GoQKP8Nj465",
        "outputId": "ac2de58d-7073-412f-be6e-ced54e318e66"
      },
      "execution_count": null,
      "outputs": [
        {
          "output_type": "execute_result",
          "data": {
            "text/plain": [
              "[3]"
            ]
          },
          "metadata": {},
          "execution_count": 45
        }
      ]
    },
    {
      "cell_type": "code",
      "source": [
        "def abcd(row,i) :\n",
        "  print(i,row)\n",
        "  if row==0 :\n",
        "    return\n",
        "\n",
        "  abcd(row-1,\"upper\")\n",
        "  print(f\"first {row}\")\n",
        "  abcd(row-1,\"lower\")\n",
        "  print(f\"second {row}\")\n",
        "\n",
        "abcd(1,0)"
      ],
      "metadata": {
        "colab": {
          "base_uri": "https://localhost:8080/"
        },
        "collapsed": true,
        "id": "q9Rij8jvJJ5N",
        "outputId": "cee5087b-fb25-46c7-ebd5-627c75b4a81f"
      },
      "execution_count": null,
      "outputs": [
        {
          "output_type": "stream",
          "name": "stdout",
          "text": [
            "0 1\n",
            "upper 0\n",
            "first 1\n",
            "lower 0\n",
            "second 1\n"
          ]
        }
      ]
    },
    {
      "cell_type": "code",
      "source": [
        "def bubble (a) :\n",
        "  for i in range(len(a)) :\n",
        "    for j in range (1,len(a)-i) :\n",
        "      if a[j] < a[j-1] :\n",
        "        a[j], a[j-1] = a[j-1] ,a[j]\n",
        "  return a\n",
        "\n",
        "bubble ([3,2,4])"
      ],
      "metadata": {
        "colab": {
          "base_uri": "https://localhost:8080/"
        },
        "id": "FccvnQu6WLlN",
        "outputId": "d98d46e8-617f-4da7-aa04-45f37ca0fd51"
      },
      "execution_count": null,
      "outputs": [
        {
          "output_type": "execute_result",
          "data": {
            "text/plain": [
              "[2, 3, 4]"
            ]
          },
          "metadata": {},
          "execution_count": 37
        }
      ]
    },
    {
      "cell_type": "code",
      "source": [
        "def bubble_rec (a,k=1,it=0,c=0) :\n",
        "  if k == len(a)-it:\n",
        "    k=1\n",
        "    it+=1\n",
        "    #print(f\"it {it}\")\n",
        "    if it==len(a)-1 :\n",
        "      return a,c,it\n",
        "    # if it == len(a):\n",
        "    #   print(f\"end {c}\")\n",
        "\n",
        "    #   return a\n",
        "  if a[k-1]>a[k] :\n",
        "      a[k-1],a[k]=a[k],a[k-1]\n",
        "      return bubble_rec(a,k+1,it,c+1)\n",
        "\n",
        "  else :\n",
        "      return bubble_rec(a,k+1,it,c+1)\n",
        "a=[3,4,2,5,7,6,5]\n",
        "\n",
        "bubble_rec (a)"
      ],
      "metadata": {
        "colab": {
          "base_uri": "https://localhost:8080/"
        },
        "id": "HMYb89BZcwOX",
        "outputId": "623320f3-673c-4902-a2bc-2713dd5cb398"
      },
      "execution_count": null,
      "outputs": [
        {
          "output_type": "execute_result",
          "data": {
            "text/plain": [
              "([2, 3, 4, 5, 5, 6, 7], 21, 6)"
            ]
          },
          "metadata": {},
          "execution_count": 8
        }
      ]
    },
    {
      "cell_type": "code",
      "source": [],
      "metadata": {
        "id": "n1nE5fKBazYM"
      },
      "execution_count": null,
      "outputs": []
    },
    {
      "cell_type": "code",
      "source": [
        "\n",
        "bubble_rec ([3,2,5,24,9,45,23,45,43,32,12,35,67])"
      ],
      "metadata": {
        "colab": {
          "base_uri": "https://localhost:8080/"
        },
        "id": "_UXDMss0UqXk",
        "outputId": "988387eb-eb8c-4a4c-e1ec-a91ef8801f96"
      },
      "execution_count": null,
      "outputs": [
        {
          "output_type": "stream",
          "name": "stdout",
          "text": [
            "it 1\n",
            "it 2\n",
            "it 3\n",
            "it 4\n",
            "it 5\n",
            "it 6\n",
            "it 7\n",
            "it 8\n",
            "it 9\n",
            "it 10\n",
            "it 11\n",
            "it 12\n"
          ]
        },
        {
          "output_type": "execute_result",
          "data": {
            "text/plain": [
              "[2, 3, 5, 9, 12, 23, 24, 32, 35, 43, 45, 45, 67]"
            ]
          },
          "metadata": {},
          "execution_count": 165
        }
      ]
    },
    {
      "cell_type": "code",
      "source": [
        "a=\"anand\"\n",
        "a[4:]"
      ],
      "metadata": {
        "colab": {
          "base_uri": "https://localhost:8080/",
          "height": 35
        },
        "id": "FMm2XbcvxgZy",
        "outputId": "8556b730-55e6-4d9f-c4dd-945453b5dfe1"
      },
      "execution_count": null,
      "outputs": [
        {
          "output_type": "execute_result",
          "data": {
            "text/plain": [
              "'d'"
            ],
            "application/vnd.google.colaboratory.intrinsic+json": {
              "type": "string"
            }
          },
          "metadata": {},
          "execution_count": 11
        }
      ]
    },
    {
      "cell_type": "code",
      "source": [
        "\n",
        "def stringrev(a,b=\"\",k=0):\n",
        "  if k==0 and b==\"\":\n",
        "    k=len(a)\n",
        "  if k== 0 :\n",
        "    return b\n",
        "  b=b+a[k-1]\n",
        "  return stringrev(a,b,k-1)\n",
        "\n",
        "\n",
        "\n",
        "stringrev(\"anand\")"
      ],
      "metadata": {
        "colab": {
          "base_uri": "https://localhost:8080/",
          "height": 35
        },
        "id": "ZatUsycMwcpU",
        "outputId": "956f37e9-4d00-4e1c-fe48-f9737934cd47"
      },
      "execution_count": null,
      "outputs": [
        {
          "output_type": "execute_result",
          "data": {
            "text/plain": [
              "'dnana'"
            ],
            "application/vnd.google.colaboratory.intrinsic+json": {
              "type": "string"
            }
          },
          "metadata": {},
          "execution_count": 19
        }
      ]
    },
    {
      "cell_type": "code",
      "source": [
        "\n",
        "def stringrev(a,k=None):\n",
        "  if k==None :\n",
        "    k=len(a)\n",
        "  if k==0 :\n",
        "    return a[5:]\n",
        "  a+= a[k-1]\n",
        "  return stringrev(a,k-1)\n",
        "\n",
        "\n",
        "\n",
        "stringrev(\"anand\")"
      ],
      "metadata": {
        "colab": {
          "base_uri": "https://localhost:8080/",
          "height": 35
        },
        "id": "niDhu8HN0p2w",
        "outputId": "3cda0119-6504-4cf0-e011-0f4e1f9a1b43"
      },
      "execution_count": null,
      "outputs": [
        {
          "output_type": "execute_result",
          "data": {
            "text/plain": [
              "'dnana'"
            ],
            "application/vnd.google.colaboratory.intrinsic+json": {
              "type": "string"
            }
          },
          "metadata": {},
          "execution_count": 21
        }
      ]
    },
    {
      "cell_type": "code",
      "source": [
        "def pattern (k,row=None,col=0,it=0):\n",
        "  if row==None and col == 0 :\n",
        "    row = len(k)-1\n",
        "  if row==0 :\n",
        "    return k,it\n",
        "  if col<row :\n",
        "    if k[col]> k[col+1]:\n",
        "      k[col],k[col+1]=k[col+1],k[col]\n",
        "    return pattern(k,row,col+1,it+1)\n",
        "  else :\n",
        "    return pattern(k,row-1,0,it+1)\n",
        "\n",
        "\n",
        "a=[3,4,2,1,5]\n",
        "pattern(a)"
      ],
      "metadata": {
        "colab": {
          "base_uri": "https://localhost:8080/"
        },
        "id": "0OUQkE__a0tT",
        "outputId": "7505742c-0024-4de1-b93c-34151fd98671"
      },
      "execution_count": null,
      "outputs": [
        {
          "output_type": "execute_result",
          "data": {
            "text/plain": [
              "([1, 2, 3, 4, 5], 14)"
            ]
          },
          "metadata": {},
          "execution_count": 63
        }
      ]
    },
    {
      "cell_type": "code",
      "source": [
        "def selection_sort (k,row=None,col=0,max=0, it=0):\n",
        "  if row==None and col==0 :\n",
        "    row =len(k)-1\n",
        "  if row==0 :\n",
        "    return k,it\n",
        "  if col<row-1 :\n",
        "    if k[col]>k[col+1] :\n",
        "      max = col\n",
        "    else :\n",
        "      max= col+1\n",
        "    #print(f\"index max = {max} and {k}\")\n",
        "    return selection_sort(k,row,col+1,max,it+1)\n",
        "  else :\n",
        "    #print(f\"before{k}\")\n",
        "    k[row],k[max]= k[max],k[row]\n",
        "    #print(f\"after{k}\")\n",
        "    return selection_sort(k,row-1,0,0,it+1)\n",
        "\n",
        "\n",
        "\n",
        "\n",
        "\n",
        "\n",
        "a=[-4,-1,0,3,10]\n",
        "selection_sort(a)"
      ],
      "metadata": {
        "colab": {
          "base_uri": "https://localhost:8080/"
        },
        "id": "dszqM1Jk5MnG",
        "outputId": "2ef6dcec-6f46-415e-c5af-2a06c6080520"
      },
      "execution_count": null,
      "outputs": [
        {
          "output_type": "execute_result",
          "data": {
            "text/plain": [
              "([10, -4, -1, 0, 3], 10)"
            ]
          },
          "metadata": {},
          "execution_count": 200
        }
      ]
    },
    {
      "cell_type": "code",
      "source": [],
      "metadata": {
        "id": "QiiRQ9hwPAUZ"
      },
      "execution_count": null,
      "outputs": []
    },
    {
      "cell_type": "code",
      "source": [
        "a=[3,4,2,1,5]\n",
        "a.index(max(a))"
      ],
      "metadata": {
        "colab": {
          "base_uri": "https://localhost:8080/"
        },
        "id": "HX_NYppI-jqJ",
        "outputId": "6bcfd9b1-ae52-45ce-b5f7-44b1ca09db6b"
      },
      "execution_count": null,
      "outputs": [
        {
          "output_type": "execute_result",
          "data": {
            "text/plain": [
              "4"
            ]
          },
          "metadata": {},
          "execution_count": 66
        }
      ]
    },
    {
      "cell_type": "code",
      "source": [
        "a=[3,2,42,7,9]\n",
        "def div_sort (b,k=1) :\n",
        "  if len(b) == 1 :\n",
        "    print(f\"single {b}\")\n",
        "    return\n",
        "  mid = len(b)//2\n",
        "  left = b[:mid]\n",
        "  right = b[mid:]\n",
        "  print(f\"before {b}\")\n",
        "  div_sort(left)\n",
        "  print(f\"after {b}\")\n",
        "  div_sort(right)\n",
        "  print(f\"last {b}\")\n",
        "\n",
        "\n",
        "def merge (a,c,b) :\n",
        "  print(f\"merge({a,c,b})\")\n",
        "  i=j=k=0\n",
        "\n",
        "  while i<len(a) and j <len(c) :\n",
        "    if a[i]<= c[j] :\n",
        "      b[k]=a[i]\n",
        "      i+=1\n",
        "    else :\n",
        "      b[k]=c[j]\n",
        "      j+=1\n",
        "    k+=1\n",
        "  while j<len(c) :\n",
        "      b[k]=c[j]\n",
        "      j+=1\n",
        "      k+=1\n",
        "  while i<len(a) :\n",
        "      b[k]=a[i]\n",
        "      i+=1\n",
        "      k=+1\n",
        "  return b\n",
        "\n",
        "\n",
        "\n",
        " # print(f\"array is {b}, returned array will be sorted {a,c}\")\n",
        "\n",
        "\n",
        "\n",
        "\n",
        "div_sort(a)"
      ],
      "metadata": {
        "colab": {
          "base_uri": "https://localhost:8080/"
        },
        "id": "ETZqTwtlfvW6",
        "outputId": "a3386132-d0cf-4668-b32d-909ae5d62f33"
      },
      "execution_count": null,
      "outputs": [
        {
          "output_type": "stream",
          "name": "stdout",
          "text": [
            "before [3, 2, 42, 7, 9]\n",
            "before [3, 2]\n",
            "single [3]\n",
            "after [3, 2]\n",
            "single [2]\n",
            "last [3, 2]\n",
            "after [3, 2, 42, 7, 9]\n",
            "before [42, 7, 9]\n",
            "single [42]\n",
            "after [42, 7, 9]\n",
            "before [7, 9]\n",
            "single [7]\n",
            "after [7, 9]\n",
            "single [9]\n",
            "last [7, 9]\n",
            "last [42, 7, 9]\n",
            "last [3, 2, 42, 7, 9]\n"
          ]
        }
      ]
    },
    {
      "cell_type": "code",
      "source": [],
      "metadata": {
        "id": "ek9oHlinQhN-"
      },
      "execution_count": null,
      "outputs": []
    },
    {
      "cell_type": "code",
      "source": [
        "a=[2]\n",
        "c=[7]\n",
        "b=[5,6]\n",
        "def merge (a,c,b) :\n",
        "  i=j=k=0\n",
        "  print(a,c)\n",
        "  while i<len(a) and j <len(c) :\n",
        "    if a[i]< c[j] :\n",
        "      b[k]=a[i]\n",
        "      i+=1\n",
        "    else :\n",
        "      b[k]=c[j]\n",
        "      j+=1\n",
        "    k+=1\n",
        "  print(f\"{a,c} and b is {b}\" )\n",
        "  while j<len(c) :\n",
        "      b[k]=c[j]\n",
        "      j+=1\n",
        "      k=+1\n",
        "  while i<len(a) :\n",
        "      b[k]=a[i]\n",
        "      i+=1\n",
        "      k+=1\n",
        "  print(f\"{a,c} and b is {b}\" )\n",
        "  return b"
      ],
      "metadata": {
        "id": "KkUMdA8a7EeU"
      },
      "execution_count": null,
      "outputs": []
    },
    {
      "cell_type": "code",
      "source": [
        "a=[-4,-3,0,1,10]\n",
        "\n",
        "\n",
        "\n",
        "\n",
        "def ad(a) :\n",
        "  l = 0\n",
        "  r = len(a)-1\n",
        "  result =[]\n",
        "\n",
        "  while l<=r :\n",
        "    print(r)\n",
        "    if abs(a[l]) > abs(a[r]) :\n",
        "      a[r],a[l] = a[l],a[r]\n",
        "      r-=1\n",
        "    else :\n",
        "      l+=1\n",
        "\n",
        "  return a\n",
        "\n",
        "\n",
        "ad(a)\n",
        "\n",
        "\n",
        "\n"
      ],
      "metadata": {
        "colab": {
          "base_uri": "https://localhost:8080/"
        },
        "id": "E6RaheVgQhzM",
        "outputId": "065f1612-9f7e-4223-8649-e61a32368659"
      },
      "execution_count": null,
      "outputs": [
        {
          "output_type": "stream",
          "name": "stdout",
          "text": [
            "4\n",
            "4\n",
            "4\n",
            "4\n",
            "4\n"
          ]
        },
        {
          "output_type": "execute_result",
          "data": {
            "text/plain": [
              "[-4, -3, 0, 1, 10]"
            ]
          },
          "metadata": {},
          "execution_count": 199
        }
      ]
    },
    {
      "cell_type": "code",
      "source": [
        "\n",
        "def isPalindrome(s) -> bool:\n",
        "    k= s[::-1].lower().replace(\" \",\"\")\n",
        "    if k.lower().replace(\" \",\"\") ==s.lower().replace(\" \",\"\") :\n",
        "        return True\n",
        "    else :\n",
        "        return k\n",
        "\n",
        "a = \"Was it a car or a cat I saw?\"\n",
        "\n",
        "isPalindrome(a)"
      ],
      "metadata": {
        "colab": {
          "base_uri": "https://localhost:8080/",
          "height": 35
        },
        "id": "TAVyyA0XkDMI",
        "outputId": "2fc7431b-afaa-4608-c2a8-ad30e401a9a5"
      },
      "execution_count": null,
      "outputs": [
        {
          "output_type": "execute_result",
          "data": {
            "text/plain": [
              "'?wasitacaroracatisaw'"
            ],
            "application/vnd.google.colaboratory.intrinsic+json": {
              "type": "string"
            }
          },
          "metadata": {},
          "execution_count": 176
        }
      ]
    },
    {
      "cell_type": "code",
      "source": [
        "a=[3,5,7,8]\n",
        "target = 13\n",
        "\n",
        "def sumfinder (x,target) :\n",
        "  l=0\n",
        "  r=len(a)-1\n",
        "\n",
        "  while l<r :\n",
        "    if a[l]+ a[r]== target :\n",
        "      return [l+1,r+1]\n",
        "    elif a[l]+ a[r] > target :\n",
        "      r-=1\n",
        "    else :\n",
        "      l+=1\n",
        "\n",
        "  return None\n",
        "\n",
        "sumfinder(a,target)\n"
      ],
      "metadata": {
        "id": "32tAgA4HPBfn",
        "colab": {
          "base_uri": "https://localhost:8080/"
        },
        "outputId": "a073e8eb-b7c8-465e-e721-5c8fde36d8f1"
      },
      "execution_count": null,
      "outputs": [
        {
          "output_type": "execute_result",
          "data": {
            "text/plain": [
              "[2, 4]"
            ]
          },
          "metadata": {},
          "execution_count": 26
        }
      ]
    },
    {
      "cell_type": "code",
      "source": [
        "a=\"Was it a car or a cat I saw\"\n",
        "\n",
        "def palimdrome (a) :\n",
        "\n",
        "  a= a.lower().replace(\" \",\"\")\n",
        "  l=0\n",
        "  r=len(a)-1\n",
        "  while l<r :\n",
        "    if a[l]==a[r] :\n",
        "      l+=1\n",
        "      r-=1\n",
        "      continue\n",
        "    else :\n",
        "      return False\n",
        "  return True\n",
        "\n",
        "palimdrome(a)"
      ],
      "metadata": {
        "colab": {
          "base_uri": "https://localhost:8080/"
        },
        "id": "61UfhP4uPi2G",
        "outputId": "1a920bb1-2731-4b6a-e0b0-42477cd764ab"
      },
      "execution_count": null,
      "outputs": [
        {
          "output_type": "execute_result",
          "data": {
            "text/plain": [
              "True"
            ]
          },
          "metadata": {},
          "execution_count": 9
        }
      ]
    },
    {
      "cell_type": "code",
      "source": [
        "from typing_extensions import ParamSpecArgs\n",
        "nums =[-1,0,1,2,-1,-4]\n",
        "[-4,-1,-1,0,1,2]\n",
        "def abcd (nums) :\n",
        "  result =[]\n",
        "  nums.sort()\n",
        "  i=0\n",
        "  while i<len(nums)-2:\n",
        "    l=i+1\n",
        "    r=len(nums)-1\n",
        "    while l<r :\n",
        "        if i == l :\n",
        "          l+=1\n",
        "          pass\n",
        "        if i == r :\n",
        "          r-=1\n",
        "          pass\n",
        "\n",
        "        if nums[i]+ nums[l] +nums[r] == 0 :\n",
        "          result.append([nums[i], nums[l], nums[r]])\n",
        "          r-=1\n",
        "          continue\n",
        "        if nums[i]+ nums[l] +nums[r] > 0 :\n",
        "          r-=1\n",
        "        if nums[i]+ nums[l] +nums[r] <0 :\n",
        "          l+=1\n",
        "        i+=1\n",
        "  return result\n",
        "\n",
        "abcd(nums)\n",
        "\n",
        "\n",
        "\n"
      ],
      "metadata": {
        "colab": {
          "base_uri": "https://localhost:8080/"
        },
        "id": "399yxCb7feCV",
        "outputId": "58e7421c-e159-40dd-e067-9e852f085ccb"
      },
      "execution_count": null,
      "outputs": [
        {
          "output_type": "execute_result",
          "data": {
            "text/plain": [
              "[[-1, -1, 2], [-1, 0, 1]]"
            ]
          },
          "metadata": {},
          "execution_count": 38
        }
      ]
    },
    {
      "cell_type": "code",
      "source": [],
      "metadata": {
        "id": "tS868rRRSb2o"
      },
      "execution_count": null,
      "outputs": []
    },
    {
      "cell_type": "code",
      "source": [
        "for i,a in enumerate(nums) :\n",
        "  print(i,a)"
      ],
      "metadata": {
        "colab": {
          "base_uri": "https://localhost:8080/"
        },
        "id": "tvUv3dgOSRrA",
        "outputId": "73c6c672-7e7e-4a7a-809c-28ebbe4b9c21"
      },
      "execution_count": null,
      "outputs": [
        {
          "output_type": "stream",
          "name": "stdout",
          "text": [
            "0 -4\n",
            "1 -1\n",
            "2 -1\n",
            "3 0\n",
            "4 1\n",
            "5 2\n"
          ]
        }
      ]
    },
    {
      "cell_type": "code",
      "source": [
        "a= [1,5,7,1,2]\n",
        "a[0:0]"
      ],
      "metadata": {
        "colab": {
          "base_uri": "https://localhost:8080/"
        },
        "id": "Q0Yw9XqLJFFx",
        "outputId": "43f2f111-e452-49db-93ac-d08e68c98166"
      },
      "execution_count": null,
      "outputs": [
        {
          "output_type": "execute_result",
          "data": {
            "text/plain": [
              "[]"
            ]
          },
          "metadata": {},
          "execution_count": 36
        }
      ]
    },
    {
      "cell_type": "code",
      "source": [
        "a=[6,2,3,4,7,2,1,7,1]\n",
        "\n",
        "\n",
        "def solver (arr: list[int] ,k:int ) -> int :\n",
        "\n",
        "   maxsum = leftsum= sum(arr[:k])\n",
        "   l=k-1\n",
        "   r=len(arr)-1\n",
        "\n",
        "   while (l>=0) :\n",
        "    leftsum = leftsum+ a[r] - a[l]\n",
        "    l-=1\n",
        "    r-=1\n",
        "    maxsum = max(maxsum,leftsum)\n",
        "\n",
        "   return maxsum\n",
        "\n",
        "\n",
        "solver(a,3)"
      ],
      "metadata": {
        "colab": {
          "base_uri": "https://localhost:8080/"
        },
        "id": "bhWNYo6eJZfl",
        "outputId": "b68f5806-efac-4300-9d07-a70cae430ad9"
      },
      "execution_count": null,
      "outputs": [
        {
          "output_type": "execute_result",
          "data": {
            "text/plain": [
              "14"
            ]
          },
          "metadata": {},
          "execution_count": 10
        }
      ]
    },
    {
      "cell_type": "code",
      "source": [
        "from collections import Counter\n",
        "a= \"geeksforgeeks\"\n",
        "def checker(a: str ) :\n",
        "  l=0\n",
        "  r=1\n",
        "  j=0\n",
        "  maxlen = 0\n",
        "  while(r< len(a) and l<r) :\n",
        "    print(a[l:r+1])\n",
        "    if any (list(map (lambda x: x>1 ,[ i for i in Counter(a[l:r+1]).values()]))) :\n",
        "      l+=1\n",
        "      r+=1\n",
        "      j+=1\n",
        "    else :\n",
        "      maxlen = r-l+1\n",
        "      r+=1\n",
        "  return maxlen\n",
        "\n",
        "checker(a)\n",
        "\n",
        "\n",
        "\n",
        "\n",
        "\n"
      ],
      "metadata": {
        "colab": {
          "base_uri": "https://localhost:8080/"
        },
        "id": "h3HUHXK4GZYE",
        "outputId": "ef7e4684-5ef5-4317-e9b6-24121e14d022"
      },
      "execution_count": null,
      "outputs": [
        {
          "output_type": "stream",
          "name": "stdout",
          "text": [
            "ge\n",
            "gee\n",
            "eek\n",
            "eks\n",
            "eksf\n",
            "eksfo\n",
            "eksfor\n",
            "eksforg\n",
            "eksforge\n",
            "ksforgee\n",
            "sforgeek\n",
            "forgeeks\n"
          ]
        },
        {
          "output_type": "execute_result",
          "data": {
            "text/plain": [
              "7"
            ]
          },
          "metadata": {},
          "execution_count": 59
        }
      ]
    },
    {
      "cell_type": "code",
      "source": [
        "a= \"geeksforgeeks\"\n",
        "\n",
        "def checker(a: str) -> int:\n",
        "   char_counter= {}\n",
        "   l=0\n",
        "   maxlen=0\n",
        "\n",
        "   for r in range(len(a)) :\n",
        "    char_counter[a[r]]= char_counter.get(a[r],0) +1\n",
        "\n",
        "    while char_counter[a[r]]>1 :\n",
        "      char_counter[a[l]]-=1\n",
        "      if char_counter[a[l]] ==0 :\n",
        "        del char_counter[a[l]]\n",
        "      l+=1\n",
        "    maxlen = max(maxlen,r-l+1)\n",
        "   return maxlen\n",
        "\n",
        "checker(a)\n"
      ],
      "metadata": {
        "colab": {
          "base_uri": "https://localhost:8080/"
        },
        "id": "2wxhjSIiQ1BT",
        "outputId": "38908627-8e9d-4bf4-cfdb-45db5b7c3c64"
      },
      "execution_count": null,
      "outputs": [
        {
          "output_type": "execute_result",
          "data": {
            "text/plain": [
              "7"
            ]
          },
          "metadata": {},
          "execution_count": 88
        }
      ]
    },
    {
      "cell_type": "code",
      "source": [
        "a=[1,1,1,1,0,0,0,1,1,1,1,0,1,1,1,1]\n",
        "\n",
        "def abcd(arr :list [int] ,k :int ) :\n",
        "  char_leng = {}\n",
        "  l=0\n",
        "  maxlen=0\n",
        "\n",
        "  for r in range(len(arr)) :\n",
        "    char_leng[arr[r]] = char_leng.get(arr[r],0) +1\n",
        "    try:\n",
        "      if char_leng[0] > k :\n",
        "        char_leng[1] = 0\n",
        "        char_leng[0] = 1\n",
        "        l=r\n",
        "    except:\n",
        "      pass\n",
        "\n",
        "    try :\n",
        "\n",
        "      maxlen= max(maxlen,char_leng[1] + char_leng[0] )\n",
        "    except :\n",
        "       maxlen= max(maxlen,char_leng[1] )\n",
        "  return maxlen\n",
        "\n",
        "abcd(a,2)"
      ],
      "metadata": {
        "colab": {
          "base_uri": "https://localhost:8080/"
        },
        "id": "oIagmpMKTWxU",
        "outputId": "b2deeddc-2ee2-4b0c-81e5-46c89c07be6a"
      },
      "execution_count": null,
      "outputs": [
        {
          "output_type": "execute_result",
          "data": {
            "text/plain": [
              "10"
            ]
          },
          "metadata": {},
          "execution_count": 51
        }
      ]
    },
    {
      "cell_type": "code",
      "source": [
        "a=[1,1,1,1,0,1,0,0,1,1,1,1,0,1,1,1,1]\n",
        "\n",
        "def checker(arr, k ) :\n",
        "  l= 0\n",
        "  maxlen = 0\n",
        "  zero_count = 0\n",
        "\n",
        "  for r in range(len(arr)) :\n",
        "\n",
        "    if arr[r] == 0 :\n",
        "      zero_count+=1\n",
        "\n",
        "      while zero_count>k :\n",
        "        if arr[l] == 0 :\n",
        "          zero_count-=1\n",
        "        l+=1\n",
        "\n",
        "    maxlen=max(maxlen,r-l+1)\n",
        "\n",
        "  return maxlen\n",
        "\n",
        "\n",
        "checker(a,2)\n"
      ],
      "metadata": {
        "colab": {
          "base_uri": "https://localhost:8080/"
        },
        "id": "sb7SIm4aVGgc",
        "outputId": "89696510-7db8-4915-a754-5e81657cb1af"
      },
      "execution_count": null,
      "outputs": [
        {
          "output_type": "execute_result",
          "data": {
            "text/plain": [
              "10"
            ]
          },
          "metadata": {},
          "execution_count": 48
        }
      ]
    },
    {
      "cell_type": "code",
      "source": [
        "fruits = [1,2,1]\n",
        "\n",
        "def checker1 (arr : list[int] , k : int) -> int :\n",
        "  fruit_count={}\n",
        "  l=0\n",
        "  max_fruit = 0\n",
        "\n",
        "  for r in range(len(arr)) :\n",
        "\n",
        "    fruit_count[arr[r]] = fruit_count.get(arr[r],0) + 1\n",
        "\n",
        "\n",
        "    if len(fruit_count.keys())<= k :\n",
        "\n",
        "      max_fruit= max(max_fruit,r-l+1)\n",
        "\n",
        "\n",
        "    while (len(fruit_count.keys()) > k ) and (l<r) :\n",
        "       fruit_count[arr[l]] -= 1\n",
        "       if fruit_count[arr[l]] ==0 :\n",
        "        fruit_count[arr[l]]\n",
        "        del fruit_count[arr[l]]\n",
        "       l+=1\n",
        "\n",
        "  return max_fruit\n",
        "\n",
        "checker1(fruits,2)"
      ],
      "metadata": {
        "colab": {
          "base_uri": "https://localhost:8080/"
        },
        "id": "W-i0-CS7eWv6",
        "outputId": "3b03dfa4-cd67-4410-caf5-6a3d70b50fc9"
      },
      "execution_count": null,
      "outputs": [
        {
          "output_type": "execute_result",
          "data": {
            "text/plain": [
              "3"
            ]
          },
          "metadata": {},
          "execution_count": 3
        }
      ]
    },
    {
      "cell_type": "code",
      "source": [
        "# larget substring with k most distinct charcters\n",
        "\n",
        "k=\"Akanaandad\"\n",
        "\n",
        "def checker2 (arr : str , k : int) -> str :\n",
        "  char_len = {}\n",
        "  l= 0\n",
        "  substring = \"\"\n",
        "  maxlen= 0\n",
        "  arr = arr.lower()\n",
        "  for r in range(len(arr)) :\n",
        "    char_len[arr[r]] = char_len.get(arr[r],0) + 1\n",
        "\n",
        "    while len(char_len) > k :\n",
        "      #print(f\"in loop ,{char_len} and {substring}\")\n",
        "      char_len[arr[l]] -=1\n",
        "      if char_len[arr[l]]==0 :\n",
        "        del char_len[arr[l]]\n",
        "      l+=1\n",
        "    #print(f\"in 2 ,{char_len} and {substring}\")\n",
        "    if maxlen < r-l+1 :\n",
        "      maxlen = max(maxlen,r-l+1)\n",
        "      substring = arr[l:r+1]\n",
        "     # print(f\"in 3 ,{char_len} and {substring}\")\n",
        "\n",
        "\n",
        "    #print(f\"in 4 ,{char_len} and {substring}\")\n",
        "  return substring\n",
        "\n",
        "checker2(k,3)"
      ],
      "metadata": {
        "colab": {
          "base_uri": "https://localhost:8080/",
          "height": 35
        },
        "id": "5uKKJJSwEH7X",
        "outputId": "d5ff50b7-8dc9-4357-9246-d0c8db723b59"
      },
      "execution_count": null,
      "outputs": [
        {
          "output_type": "execute_result",
          "data": {
            "text/plain": [
              "'anaandad'"
            ],
            "application/vnd.google.colaboratory.intrinsic+json": {
              "type": "string"
            }
          },
          "metadata": {},
          "execution_count": 25
        }
      ]
    },
    {
      "cell_type": "code",
      "source": [
        "a={1:1,2:2,3:3,4:4}\n",
        "len(a)"
      ],
      "metadata": {
        "colab": {
          "base_uri": "https://localhost:8080/"
        },
        "id": "4NT8DF_eFxBv",
        "outputId": "c1d4ec7c-8d64-43bf-9ae0-60a8b63dcf27"
      },
      "execution_count": null,
      "outputs": [
        {
          "output_type": "execute_result",
          "data": {
            "text/plain": [
              "4"
            ]
          },
          "metadata": {},
          "execution_count": 9
        }
      ]
    },
    {
      "cell_type": "code",
      "source": [
        "a = \"aaabc\"\n",
        "\n",
        "def loader(arr :str ) :\n",
        "  char_len = {}\n",
        "  l= 0\n",
        "  string_count= 0\n",
        "\n",
        "  for r in range(len(arr)) :\n",
        "    char_len[arr[r]] = char_len.get(arr[r],0) + 1\n",
        "\n",
        "    if len(char_len) == 3 :\n",
        "     remianing_len = len(arr)- r\n",
        "     print(f\"a, {string_count}\")\n",
        "     string_count += remianing_len\n",
        "     print(f\"b, {string_count}\")\n",
        "     l+=1\n",
        "\n",
        "     print(remianing_len,string_count)\n",
        "\n",
        "\n",
        "\n",
        "  return string_count\n",
        "\n",
        "loader(a)\n"
      ],
      "metadata": {
        "colab": {
          "base_uri": "https://localhost:8080/"
        },
        "id": "GgcFRmeGyQAw",
        "outputId": "e324164f-5993-4580-da22-a71a4866ba31"
      },
      "execution_count": null,
      "outputs": [
        {
          "output_type": "stream",
          "name": "stdout",
          "text": [
            "a, 0\n",
            "b, 4\n",
            "4 4\n",
            "a, 4\n",
            "b, 8\n",
            "4 8\n",
            "a, 8\n",
            "b, 12\n",
            "4 12\n",
            "a, 12\n",
            "b, 16\n",
            "4 16\n"
          ]
        },
        {
          "output_type": "execute_result",
          "data": {
            "text/plain": [
              "16"
            ]
          },
          "metadata": {},
          "execution_count": 25
        }
      ]
    },
    {
      "cell_type": "code",
      "source": [
        "b={1:1,2:2,3:3}\n"
      ],
      "metadata": {
        "colab": {
          "base_uri": "https://localhost:8080/",
          "height": 162
        },
        "id": "6QY7MgMx7dep",
        "outputId": "7ceda224-b058-47d9-8227-4dafea082a5e"
      },
      "execution_count": null,
      "outputs": [
        {
          "output_type": "error",
          "ename": "NameError",
          "evalue": "name 'null' is not defined",
          "traceback": [
            "\u001b[0;31m---------------------------------------------------------------------------\u001b[0m",
            "\u001b[0;31mNameError\u001b[0m                                 Traceback (most recent call last)",
            "\u001b[0;32m<ipython-input-28-b1094cb50cf3>\u001b[0m in \u001b[0;36m<cell line: 2>\u001b[0;34m()\u001b[0m\n\u001b[1;32m      1\u001b[0m \u001b[0mb\u001b[0m\u001b[0;34m=\u001b[0m\u001b[0;34m{\u001b[0m\u001b[0;36m1\u001b[0m\u001b[0;34m:\u001b[0m\u001b[0;36m1\u001b[0m\u001b[0;34m,\u001b[0m\u001b[0;36m2\u001b[0m\u001b[0;34m:\u001b[0m\u001b[0;36m2\u001b[0m\u001b[0;34m,\u001b[0m\u001b[0;36m3\u001b[0m\u001b[0;34m:\u001b[0m\u001b[0;36m3\u001b[0m\u001b[0;34m}\u001b[0m\u001b[0;34m\u001b[0m\u001b[0;34m\u001b[0m\u001b[0m\n\u001b[0;32m----> 2\u001b[0;31m \u001b[0;36m1\u001b[0m\u001b[0;34m+\u001b[0m \u001b[0mnull\u001b[0m\u001b[0;34m\u001b[0m\u001b[0;34m\u001b[0m\u001b[0m\n\u001b[0m",
            "\u001b[0;31mNameError\u001b[0m: name 'null' is not defined"
          ]
        }
      ]
    },
    {
      "cell_type": "code",
      "source": [
        "class Node :\n",
        "  def __init__(self,data) :\n",
        "    self.data = data\n",
        "    self.next = None\n",
        "\n",
        "class LinkedList:\n",
        "    def __init__(self):\n",
        "        self.head = None  # Initially, the list is empty, so the head is None\n",
        "\n",
        "    def append(self, data):\n",
        "        new_node = Node(data)  # Create a new node\n",
        "        if not self.head:  # If the list is empty, the new node becomes the head\n",
        "            self.head = new_node\n",
        "            return\n",
        "\n",
        "        last = self.head\n",
        "        while last.next:  # Traverse to the last node\n",
        "            last = last.next\n",
        "\n",
        "        last.next = new_node  # Link the last node to the new node\n",
        "\n",
        "    def print_list(self):\n",
        "        current = self.head\n",
        "        while current:\n",
        "            print(current.data, end=\" -> \")\n",
        "            current = current.next\n",
        "        print(\"None\")\n",
        "\n"
      ],
      "metadata": {
        "id": "ZWUHKQ7vhAeY"
      },
      "execution_count": null,
      "outputs": []
    },
    {
      "cell_type": "code",
      "source": [
        "k=LinkedList()"
      ],
      "metadata": {
        "id": "5TSaNbqTfavW"
      },
      "execution_count": null,
      "outputs": []
    },
    {
      "cell_type": "code",
      "source": [
        "k.append(9)"
      ],
      "metadata": {
        "id": "jg4cFY3xff0j"
      },
      "execution_count": null,
      "outputs": []
    },
    {
      "cell_type": "code",
      "source": [
        "vars(k.head.next)"
      ],
      "metadata": {
        "colab": {
          "base_uri": "https://localhost:8080/"
        },
        "id": "7c7NOWACqYmW",
        "outputId": "8fc4c8e4-a793-4d28-a7b7-3e42f073ff52"
      },
      "execution_count": null,
      "outputs": [
        {
          "output_type": "execute_result",
          "data": {
            "text/plain": [
              "{'data': 9, 'next': None}"
            ]
          },
          "metadata": {},
          "execution_count": 8
        }
      ]
    }
  ]
}